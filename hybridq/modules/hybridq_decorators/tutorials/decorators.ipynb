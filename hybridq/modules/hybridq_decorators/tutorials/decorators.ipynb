{
 "cells": [
  {
   "cell_type": "code",
   "execution_count": 1,
   "id": "f63cdb7b",
   "metadata": {
    "ExecuteTime": {
     "end_time": "2023-01-28T02:58:02.535484Z",
     "start_time": "2023-01-28T02:58:02.523684Z"
    }
   },
   "outputs": [
    {
     "name": "stdout",
     "output_type": "stream",
     "text": [
      "can't set attribute 'x'\n"
     ]
    }
   ],
   "source": [
    "# HybridQ-Decorators is a decorator libraries to enhance objects easily.\n",
    "# For instance, HybridQ-Decorators extend the decorator 'property' to\n",
    "# classes:\n",
    "\n",
    "from hybridq_decorators import classproperty, ClassProperty\n",
    "\n",
    "\n",
    "class A(ClassProperty):\n",
    "    _x = 0\n",
    "\n",
    "    @classproperty\n",
    "    def x(cls):\n",
    "        return cls._x\n",
    "\n",
    "\n",
    "# Class properties can be directly access before ...\n",
    "assert (A.x == 0)\n",
    "\n",
    "# ... and after instantiating the object\n",
    "assert (A().x == 0)\n",
    "\n",
    "# As 'property', 'classproperty' is read only:\n",
    "try:\n",
    "    A.x = 1\n",
    "except AttributeError as e:\n",
    "    print(e)"
   ]
  },
  {
   "cell_type": "code",
   "execution_count": 2,
   "id": "e9b2ef6e",
   "metadata": {
    "ExecuteTime": {
     "end_time": "2023-01-28T02:58:02.544273Z",
     "start_time": "2023-01-28T02:58:02.537375Z"
    }
   },
   "outputs": [
    {
     "name": "stdout",
     "output_type": "stream",
     "text": [
      "Getter\n",
      "Setter\n",
      "Getter\n",
      "Deleter\n",
      "Getter\n",
      "type object 'A' has no attribute '_x'\n"
     ]
    }
   ],
   "source": [
    "# 'classproperty' uses the same syntax as 'property'\n",
    "\n",
    "\n",
    "class A(ClassProperty):\n",
    "    _x = 0\n",
    "\n",
    "    @classproperty\n",
    "    def x(cls):\n",
    "        print(\"Getter\")\n",
    "        return cls._x\n",
    "\n",
    "    @x.setter\n",
    "    def x(cls, x):\n",
    "        print(\"Setter\")\n",
    "        cls._x = int(x)\n",
    "\n",
    "    @x.deleter\n",
    "    def x(cls):\n",
    "        print(\"Deleter\")\n",
    "        del cls._x\n",
    "\n",
    "\n",
    "assert (A.x == 0)\n",
    "A.x = 2.2\n",
    "assert (A.x == 2)\n",
    "del A.x\n",
    "\n",
    "try:\n",
    "    A.x\n",
    "except AttributeError as e:\n",
    "    print(e)"
   ]
  },
  {
   "cell_type": "code",
   "execution_count": 3,
   "id": "81ff4318",
   "metadata": {
    "ExecuteTime": {
     "end_time": "2023-01-28T02:58:02.560145Z",
     "start_time": "2023-01-28T02:58:02.548234Z"
    }
   },
   "outputs": [
    {
     "name": "stdout",
     "output_type": "stream",
     "text": [
      "can't set attribute 'x'\n",
      "can't set attribute 'x'\n",
      "type object 'A' has no attribute 'x'\n",
      "type object 'A' has no attribute '__A_static_y'\n",
      "can't set attribute 'y'\n"
     ]
    }
   ],
   "source": [
    "# HybridQ-Decorators also provides 'staticvars'. 'staticvars'\n",
    "# are simplified 'classproperty's that allow to add read-only\n",
    "# attributes to a class\n",
    "from hybridq_decorators import staticvars\n",
    "\n",
    "\n",
    "@staticvars(x=1)\n",
    "class A(ClassProperty):\n",
    "    ...\n",
    "\n",
    "\n",
    "assert (A.x == 1)\n",
    "try:\n",
    "    A.x = 2\n",
    "except AttributeError as e:\n",
    "    print(e)\n",
    "\n",
    "# Static vars cannot be changed while dynamically creating new\n",
    "# types, unless the static variable is declared 'mutable'\n",
    "\n",
    "try:\n",
    "    type('B', (A, ), {}, static_vars=dict(x=2))\n",
    "except AttributeError as e:\n",
    "    print(e)\n",
    "\n",
    "\n",
    "@staticvars(x=1, mutable=True)\n",
    "class A(ClassProperty):\n",
    "    ...\n",
    "\n",
    "\n",
    "# Dynamically create a new type\n",
    "B = type('B', (A, ), {}, static_vars=dict(x=2))\n",
    "\n",
    "# Check\n",
    "assert (B.x == 2)\n",
    "\n",
    "# Static variables can also be declared without specifying a value\n",
    "\n",
    "\n",
    "@staticvars('x,y', mutable=True)\n",
    "class A(ClassProperty):\n",
    "    ...\n",
    "\n",
    "\n",
    "try:\n",
    "    A.x\n",
    "except AttributeError as e:\n",
    "    print(e)\n",
    "\n",
    "try:\n",
    "    A().y\n",
    "except AttributeError as e:\n",
    "    print(e)\n",
    "\n",
    "# This is useful for instance when new types are dynamically created,\n",
    "# each one with different values of static vars:\n",
    "\n",
    "B1 = type('B1', (A, ), {}, static_vars=dict(x=1, y=2))\n",
    "B2 = type('B1', (A, ), {}, static_vars=dict(x=3, y=4))\n",
    "\n",
    "assert (B1.x == 1 and B1.y == 2)\n",
    "assert (B2.x == 3 and B2.y == 4)\n",
    "\n",
    "# A mix of mutable and non mutable variables can be declared\n",
    "# using multiple 'staticvars'\n",
    "\n",
    "\n",
    "@staticvars('x', mutable=True)\n",
    "@staticvars(y=3)\n",
    "class A(ClassProperty):\n",
    "    ...\n",
    "\n",
    "\n",
    "B1 = type('B1', (A, ), {}, static_vars=dict(x=42))\n",
    "assert (B1.x == 42)\n",
    "assert (B1.y == 3)\n",
    "\n",
    "# B1.y cannot be changed\n",
    "try:\n",
    "    B1 = type('B1', (A, ), {}, static_vars=dict(y=42))\n",
    "except AttributeError as e:\n",
    "    print(e)"
   ]
  },
  {
   "cell_type": "code",
   "execution_count": 4,
   "id": "b338d3e4",
   "metadata": {
    "ExecuteTime": {
     "end_time": "2023-01-28T02:58:02.570820Z",
     "start_time": "2023-01-28T02:58:02.562855Z"
    }
   },
   "outputs": [
    {
     "name": "stdout",
     "output_type": "stream",
     "text": [
      "Check failed for variable 'x'\n"
     ]
    }
   ],
   "source": [
    "# 'staticvars' also allow to transform and check static\n",
    "# variables. This is useful for mutable static vars\n",
    "\n",
    "\n",
    "@staticvars(x='2',\n",
    "            transform=dict(x=lambda x: float(x)**2),\n",
    "            check=dict(x=lambda x: x > 3),\n",
    "            mutable=True)\n",
    "class A(ClassProperty):\n",
    "    ...\n",
    "\n",
    "\n",
    "assert (isinstance(A.x, float) and A.x == 4)\n",
    "\n",
    "# Create a new type\n",
    "B1 = type('B1', (A, ), {}, static_vars=dict(x='3.32'))\n",
    "\n",
    "# B1.x should be a float\n",
    "assert (isinstance(B1.x, float) and B1.x == 3.32**2)\n",
    "\n",
    "# If a check fail, a 'ValueError' is raised\n",
    "try:\n",
    "    type('B1', (A, ), {}, static_vars=dict(x='1.32'))\n",
    "except ValueError as e:\n",
    "    print(e)"
   ]
  },
  {
   "cell_type": "code",
   "execution_count": 5,
   "id": "45ab68c9",
   "metadata": {
    "ExecuteTime": {
     "end_time": "2023-01-28T02:58:02.579612Z",
     "start_time": "2023-01-28T02:58:02.573635Z"
    }
   },
   "outputs": [
    {
     "name": "stdout",
     "output_type": "stream",
     "text": [
      "A.__init__() missing required keyword-only argument: 'c'\n"
     ]
    }
   ],
   "source": [
    "# Similarly to 'staticvars', HybridQ-Decorators provide a simple\n",
    "# way to declare class attributes using 'attributes'. The decorator\n",
    "# 'attributes' allows to declare attributes with both default and\n",
    "# not default values:\n",
    "from hybridq_decorators import attributes\n",
    "\n",
    "\n",
    "# 'a' and 'b' have default values\n",
    "@attributes('c', a=1, b=2)\n",
    "class A:\n",
    "    ...\n",
    "\n",
    "\n",
    "# A 'TypeError' will be raised if missing required attributes are\n",
    "# missing\n",
    "try:\n",
    "    A()\n",
    "except TypeError as e:\n",
    "    print(e)\n",
    "\n",
    "# Get a new instance\n",
    "a = A(c='hello')\n",
    "\n",
    "# Check\n",
    "assert (a.a == 1 and a.b == 2 and a.c == 'hello')\n",
    "\n",
    "# Defaul values can be overwritten\n",
    "a = A(a=-1, b=-2, c=-3)\n",
    "\n",
    "# Check\n",
    "assert (a.a == -1 and a.b == -2 and a.c == -3)"
   ]
  },
  {
   "cell_type": "code",
   "execution_count": 6,
   "id": "e1bd2894",
   "metadata": {
    "ExecuteTime": {
     "end_time": "2023-01-28T02:58:02.587066Z",
     "start_time": "2023-01-28T02:58:02.582025Z"
    }
   },
   "outputs": [
    {
     "name": "stdout",
     "output_type": "stream",
     "text": [
      "Check failed for variable 'a'\n"
     ]
    }
   ],
   "source": [
    "# Similat to 'staticvars', 'attributes' allows to transform and\n",
    "# check attributes\n",
    "\n",
    "\n",
    "@attributes(a=1.1, transform=dict(a=int), check=dict(a=lambda a: a < 2))\n",
    "class A:\n",
    "    ...\n",
    "\n",
    "\n",
    "# Get new instance\n",
    "a = A()\n",
    "\n",
    "# a.a should be an int\n",
    "assert (isinstance(a.a, int) and a.a == 1)\n",
    "\n",
    "a = A(a='-3')\n",
    "assert (isinstance(a.a, int) and a.a == -3)\n",
    "\n",
    "# If check fails, a 'ValueError' is raised\n",
    "try:\n",
    "    a = A(a='5')\n",
    "except ValueError as e:\n",
    "    print(e)"
   ]
  },
  {
   "cell_type": "code",
   "execution_count": 7,
   "id": "d50f6e87",
   "metadata": {
    "ExecuteTime": {
     "end_time": "2023-01-28T02:58:02.596042Z",
     "start_time": "2023-01-28T02:58:02.589814Z"
    }
   },
   "outputs": [
    {
     "name": "stdout",
     "output_type": "stream",
     "text": [
      "self.a=1\n",
      "self.b=0\n",
      "self.c='hello'\n",
      "self.d=1\n"
     ]
    }
   ],
   "source": [
    "# The user can also provides a new __init__ for the class. Attributes\n",
    "# declared using 'attributes' are parsed before '__init__'\n",
    "@attributes('a', b=0)\n",
    "class A:\n",
    "\n",
    "    def __init__(self, c, d=1):\n",
    "        self.c = c\n",
    "        self.d = d\n",
    "        print(f'{self.a=}')\n",
    "        print(f'{self.b=}')\n",
    "        print(f'{self.c=}')\n",
    "        print(f'{self.d=}')\n",
    "\n",
    "\n",
    "a = A(a=1, c='hello')\n",
    "assert (a.a == 1 and a.b == 0 and a.c == 'hello' and a.d == 1)"
   ]
  },
  {
   "cell_type": "code",
   "execution_count": 8,
   "id": "97a9fb38",
   "metadata": {
    "ExecuteTime": {
     "end_time": "2023-01-28T02:58:02.611876Z",
     "start_time": "2023-01-28T02:58:02.598989Z"
    }
   },
   "outputs": [
    {
     "name": "stdout",
     "output_type": "stream",
     "text": [
      "type object 'A' requires 'a'\n",
      "type object 'E' requires 'b'\n"
     ]
    }
   ],
   "source": [
    "# When dealing with inheritance, it is useful to make sure that a child type\n",
    "# correctly implements the required members. The decorators 'requires' and\n",
    "# 'provides' allow the implementation of \"virtual\" members in Python:\n",
    "from hybridq_decorators import requires, provides\n",
    "\n",
    "\n",
    "@requires('a,b')\n",
    "class A:\n",
    "    ...\n",
    "\n",
    "\n",
    "# Since 'a' and 'b' are required but 'A' implements none,\n",
    "# raise an 'AttributeError'\n",
    "try:\n",
    "    A()\n",
    "except AttributeError as e:\n",
    "    print(e)\n",
    "\n",
    "\n",
    "# Members can be added in multiple ways\n",
    "class B(A):\n",
    "    a: int = 1\n",
    "    b: float = 2.2\n",
    "\n",
    "\n",
    "b = B()\n",
    "assert (b.a == 1 and b.b == 2.2)\n",
    "\n",
    "\n",
    "@attributes(a=1)\n",
    "@staticvars(b=2)\n",
    "class C(A, ClassProperty):\n",
    "    ...\n",
    "\n",
    "\n",
    "c = C()\n",
    "assert (c.a == 1 and c.b == 2)\n",
    "\n",
    "\n",
    "class D:\n",
    "\n",
    "    def a(self):\n",
    "        return 42\n",
    "\n",
    "    @property\n",
    "    def b(self):\n",
    "        return 'hello!'\n",
    "\n",
    "\n",
    "d = D()\n",
    "assert (d.a() == 42 and d.b == 'hello!')\n",
    "\n",
    "\n",
    "class E(A):\n",
    "    a: str = '42'\n",
    "\n",
    "\n",
    "try:\n",
    "    E()\n",
    "except AttributeError as e:\n",
    "    print(e)\n",
    "\n",
    "\n",
    "@attributes('b')\n",
    "class F(E):\n",
    "    ...\n",
    "\n",
    "\n",
    "f = F(b=0)\n",
    "assert (f.a == '42' and f.b == 0)\n",
    "\n",
    "\n",
    "class G(A):\n",
    "\n",
    "    def __init__(self, a, b=0):\n",
    "        self.a = a\n",
    "        self.b = b\n",
    "\n",
    "\n",
    "g = G(a=1)\n",
    "assert (g.a == 1 and g.b == 0)\n",
    "\n",
    "\n",
    "class H(A):\n",
    "    __slots__ = ('a', 'b')\n",
    "\n",
    "    def __init__(self, a, b):\n",
    "        self.a = a\n",
    "        self.b = b\n",
    "\n",
    "\n",
    "h = H(a=1, b=2)\n",
    "assert (h.a == 1 and h.b == 2)"
   ]
  },
  {
   "cell_type": "code",
   "execution_count": 9,
   "id": "f8bb8f6f",
   "metadata": {
    "ExecuteTime": {
     "end_time": "2023-01-28T02:58:02.619906Z",
     "start_time": "2023-01-28T02:58:02.614640Z"
    }
   },
   "outputs": [
    {
     "name": "stdout",
     "output_type": "stream",
     "text": [
      "'B' object has no attribute 'b'\n"
     ]
    }
   ],
   "source": [
    "# In some cases, it may be useful to override a required\n",
    "# member using 'provides':\n",
    "\n",
    "\n",
    "@requires('a,b')\n",
    "class A:\n",
    "    ...\n",
    "\n",
    "\n",
    "@provides('b')\n",
    "class B(A):\n",
    "    a: int = 42\n",
    "\n",
    "\n",
    "b = B()\n",
    "assert (b.a == 42)\n",
    "try:\n",
    "    b.b\n",
    "except AttributeError as e:\n",
    "    print(e)"
   ]
  },
  {
   "cell_type": "code",
   "execution_count": 10,
   "id": "3ef7289b",
   "metadata": {
    "ExecuteTime": {
     "end_time": "2023-01-28T02:58:02.637730Z",
     "start_time": "2023-01-28T02:58:02.622079Z"
    }
   },
   "outputs": [
    {
     "name": "stdout",
     "output_type": "stream",
     "text": [
      "in __eq__\n",
      "in _eq1\n",
      "in _eq2\n"
     ]
    },
    {
     "data": {
      "text/plain": [
       "True"
      ]
     },
     "execution_count": 10,
     "metadata": {},
     "output_type": "execute_result"
    }
   ],
   "source": [
    "# HybridQ-Decorators also provides 'compare' to simplify the comparison\n",
    "# between objects:\n",
    "from hybridq_decorators import compare\n",
    "\n",
    "\n",
    "# Compare only 'a'\n",
    "@compare('a')\n",
    "@attributes('a,b')\n",
    "class A:\n",
    "    ...\n",
    "\n",
    "\n",
    "assert (A(a=1, b=2) == A(a=1, b=5))\n",
    "assert (A(a=1, b='hello') != A(a=2, b='hello'))\n",
    "\n",
    "# It is also possible to provide a user-define function to compare\n",
    "# methods:\n",
    "\n",
    "\n",
    "@compare('a', b=lambda x, y: abs(x) == abs(y))\n",
    "@attributes('a,b')\n",
    "class A:\n",
    "    ...\n",
    "\n",
    "\n",
    "assert (A(a=1, b=2) == A(a=1, b=-2))\n",
    "assert (A(a=1, b=2) == A(a=1, b=2))\n",
    "\n",
    "# Moreover, if '__eq__' is present, '__eq__' is checked as well\n",
    "\n",
    "\n",
    "def _eq1(x, y):\n",
    "    print('in _eq1')\n",
    "    return True\n",
    "\n",
    "\n",
    "def _eq2(x, y):\n",
    "    print('in _eq2')\n",
    "    return True\n",
    "\n",
    "\n",
    "@attributes(a=0)\n",
    "@compare(a=_eq1)\n",
    "class A:\n",
    "    ...\n",
    "\n",
    "\n",
    "@compare(a=_eq2)\n",
    "class B(A):\n",
    "\n",
    "    def __eq__(self, other):\n",
    "        print('in __eq__')\n",
    "        return super().__eq__(other) and True\n",
    "\n",
    "\n",
    "A() == B()"
   ]
  },
  {
   "cell_type": "code",
   "execution_count": 11,
   "id": "dbde042e",
   "metadata": {
    "ExecuteTime": {
     "end_time": "2023-01-28T02:58:02.654518Z",
     "start_time": "2023-01-28T02:58:02.640513Z"
    }
   },
   "outputs": [
    {
     "name": "stdout",
     "output_type": "stream",
     "text": [
      "Can't pickle <function <lambda> at 0x7f91e819d510>: attribute lookup <lambda> on __main__ failed\n"
     ]
    }
   ],
   "source": [
    "# User-defined objects with local references cannot be easily pickled.\n",
    "# To overcome this, HybridQ-Decorators provides the decorator 'pickler'\n",
    "# to enable 'pickle' for arbitrary objects:\n",
    "from hybridq_decorators import pickler, Pickler\n",
    "import pickle\n",
    "\n",
    "\n",
    "class A:\n",
    "    ...\n",
    "\n",
    "\n",
    "a = A()\n",
    "a.x = lambda: 1\n",
    "\n",
    "try:\n",
    "    pickle.dumps(a)\n",
    "except pickle.PicklingError as e:\n",
    "    print(e)\n",
    "\n",
    "\n",
    "# Any valid alternative for pickle can be provided\n",
    "@pickler('cloudpickle')\n",
    "class B(Pickler):\n",
    "    ...\n",
    "\n",
    "\n",
    "b = B()\n",
    "b.x = lambda: 1\n",
    "\n",
    "assert (pickle.loads(pickle.dumps(b)).x() == 1)"
   ]
  },
  {
   "cell_type": "code",
   "execution_count": 12,
   "id": "d19edfb1",
   "metadata": {
    "ExecuteTime": {
     "end_time": "2023-01-28T02:58:02.666329Z",
     "start_time": "2023-01-28T02:58:02.660756Z"
    }
   },
   "outputs": [
    {
     "name": "stdout",
     "output_type": "stream",
     "text": [
      "A(a=0)\n",
      "A(a=0, b=13.37π)\n"
     ]
    }
   ],
   "source": [
    "# Finally, HybridQ-Decorators includes the decorator 'printer' to\n",
    "# control how an object is printed.\n",
    "from hybridq_decorators import printer, Printer\n",
    "\n",
    "# The simplest way to control how a member of an object is printed\n",
    "# is to provide a string:\n",
    "\n",
    "\n",
    "@attributes(a=0)\n",
    "@printer(a='a={self.a}')\n",
    "class A(Printer):\n",
    "    ...\n",
    "\n",
    "\n",
    "# The output of 'a' is then printer as 'a={self.a}'.format(self)\n",
    "print(A())\n",
    "\n",
    "\n",
    "# Otherwise, a callable that accepts self can be used\n",
    "@attributes(a=0, b='42')\n",
    "@printer(a='a={self.a}', b=lambda self: f'b={float(self.b)/3.1416:1.2f}π')\n",
    "class A(Printer):\n",
    "    ...\n",
    "\n",
    "\n",
    "print(A())"
   ]
  },
  {
   "cell_type": "code",
   "execution_count": 13,
   "id": "6d9c4e8e",
   "metadata": {
    "ExecuteTime": {
     "end_time": "2023-01-28T02:58:02.676272Z",
     "start_time": "2023-01-28T02:58:02.669025Z"
    }
   },
   "outputs": [
    {
     "name": "stdout",
     "output_type": "stream",
     "text": [
      "PREFIX HELLO(b=5.09π) ** 32 POSTFIX\n"
     ]
    }
   ],
   "source": [
    "# A more finer control can be achieved using 'PrintObject'\n",
    "from hybridq_decorators import PrintObject\n",
    "\n",
    "# 'PrintObject' accepts 4 parameters:\n",
    "# fn: callable | str\n",
    "#     Function used to format `self`. If `callable`, it must accept a single\n",
    "#     argument, `self`, and return an object convertible to `str`. String\n",
    "#     will instead be evaluated using `str.format(self)`.\n",
    "# pos: 'pre' | 'name' | 'bulk' | 'post', optional\n",
    "#     Where to locate the argument. The output of `str(obj`) is divided in\n",
    "#     four parts:\n",
    "#                         [pre][name]([bulk])[post]\n",
    "#     All four parts are processed in the same way, and then placed in the\n",
    "#     right position.\n",
    "# sep: str, optional\n",
    "#     If this argument is followed by another within the same `pos`, use `sep`\n",
    "#     to separate them.\n",
    "# order: int, optional\n",
    "#     Arguments are ordered accordingly to `order`.\n",
    "\n",
    "\n",
    "@printer(\n",
    "    name=PrintObject(f'HELLO', pos='name'),  # Change the name of the object\n",
    "    prefix=PrintObject(f'PREFIX ',\n",
    "                       pos='pre'),  # Add a prefix in front of the object\n",
    "    postfix=PrintObject(f' POSTFIX',\n",
    "                        pos='post'),  # Add a postfix at the end of the object\n",
    "    a=PrintObject(' ** {self.a}', sep='', pos='post', order=10),\n",
    "    b=PrintObject(lambda self: f'b={float(self.b)/3.1416:1.2f}π'))\n",
    "@staticvars(a=32, b=16)\n",
    "class A(Printer, ClassProperty):\n",
    "    ...\n",
    "\n",
    "\n",
    "print(A())"
   ]
  }
 ],
 "metadata": {
  "kernelspec": {
   "display_name": "Python 3 (ipykernel)",
   "language": "python",
   "name": "python3"
  },
  "language_info": {
   "codemirror_mode": {
    "name": "ipython",
    "version": 3
   },
   "file_extension": ".py",
   "mimetype": "text/x-python",
   "name": "python",
   "nbconvert_exporter": "python",
   "pygments_lexer": "ipython3",
   "version": "3.10.9"
  },
  "varInspector": {
   "cols": {
    "lenName": 16,
    "lenType": 16,
    "lenVar": 40
   },
   "kernels_config": {
    "python": {
     "delete_cmd_postfix": "",
     "delete_cmd_prefix": "del ",
     "library": "var_list.py",
     "varRefreshCmd": "print(var_dic_list())"
    },
    "r": {
     "delete_cmd_postfix": ") ",
     "delete_cmd_prefix": "rm(",
     "library": "var_list.r",
     "varRefreshCmd": "cat(var_dic_list()) "
    }
   },
   "types_to_exclude": [
    "module",
    "function",
    "builtin_function_or_method",
    "instance",
    "_Feature"
   ],
   "window_display": false
  }
 },
 "nbformat": 4,
 "nbformat_minor": 5
}
