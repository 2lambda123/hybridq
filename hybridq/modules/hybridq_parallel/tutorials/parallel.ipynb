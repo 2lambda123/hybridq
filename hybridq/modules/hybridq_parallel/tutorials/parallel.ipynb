{
 "cells": [
  {
   "cell_type": "markdown",
   "id": "f04d015b",
   "metadata": {},
   "source": [
    "# HybridQ-Parallel: Light-Weight Parallelization\n",
    "\n",
    "**HybridQ-Parallel** is light-weight library to parallelize processes based on `loky`.\n",
    "\n",
    "## Installation\n",
    "\n",
    "`HybridQ-Parallel` can be installed as stand-alone library using `pip`:\n",
    "```\n",
    "pip install 'git+https://github.com/nasa/hybridq#egg=hybridq-parallel&subdirectory=hybridq/modules/hybridq_parallel'\n",
    "```\n",
    "\n",
    "## Getting Started\n",
    "\n",
    "Tutorials on how to use **HybridQ-Parallel** can be found in [hybridq-parallel/tutorials](https://github.com/nasa/hybridq/tree/main/hybridq/modules/hybridq_parallel/tutorials).\n",
    "\n",
    "## How to Use\n",
    "\n",
    "**HybridQ-Parallel** provide the equivalent of `map` to run on multiple thread:\n",
    "```\n",
    "from hybridq_parallel import map as pmap\n",
    "\n",
    "list(pmap(lambda x: x**2, range(10)))\n",
    "> [0, 1, 4, 9, 16, 25, 36, 49, 64, 81]\n",
    "```\n",
    "The pool executor is automatically started when requires and its number of workers\n",
    "is initialized by default to the number of available cores. The default behavior\n",
    "can be changed by setting the environment variable `HYBRIDQ_PARALLEL_NUM_THREADS`\n",
    "to the desired number before starting the pool executor. Otherwise, the pool\n",
    "executor can be manually started with the desired number of workers:\n",
    "```\n",
    "from hybridq_parallel import map as pmap\n",
    "from hybridq_parallel import restart, get_n_workers\n",
    "\n",
    "restart(max_workers=2)\n",
    "get_n_workers()\n",
    "> 2\n",
    "```\n",
    "**HybridQ-Parallel** also provide the equivalent of `multiprocessing.starmap`:\n",
    "```\n",
    "from hybridq_parallel import starmap\n",
    "\n",
    "list(starmap(lambda x, y: x * y**2, zip(range(10), range(10))))\n",
    "> [0, 1, 8, 27, 64, 125, 216, 343, 512, 729]\n",
    "```\n",
    "\n",
    "By default **HybridQ-Parallel** uses `cloudpickle` as pickler. The default behavior can be\n",
    "changed by setting the environment variable `LOKY_PICKLER` to the desired\n",
    "pickler module.\n",
    "```\n",
    "from hybridq_parallel import map as pmap\n",
    "\n",
    "list(pmap(lambda x: x**2, range(10)))\n",
    "> [0, 1, 4, 9, 16, 25, 36, 49, 64, 81]\n",
    "```\n",
    "If needed, a progressbar can be added using packages like `tqdm`:\n",
    "```\n",
    "from hybridq_parallel import map as pmap\n",
    "from tqdm.auto import tqdm\n",
    "\n",
    "list(tqdm(pmap(lambda x, y: y * x**2, range(10), range(10)), total=10))\n",
    "```\n",
    "\n",
    "## How To Cite\n",
    "\n",
    "[1] S. Mandrà, J. Marshall, E. Rieffel, and R. Biswas, [*\"HybridQ: A Hybrid\n",
    "Simulator for Quantum Circuits\"*](https://doi.org/10.1109/QCS54837.2021.00015), \n",
    "IEEE/ACM Second International Workshop on Quantum Computing Software (QCS) (2021)\n",
    "\n",
    "## Licence\n",
    "\n",
    "Copyright © 2021, United States Government, as represented by the Administrator\n",
    "of the National Aeronautics and Space Administration. All rights reserved.\n",
    "\n",
    "The HybridQ: A Hybrid Simulator for Quantum Circuits platform is licensed under\n",
    "the Apache License, Version 2.0 (the \"License\"); you may not use this file\n",
    "except in compliance with the License. You may obtain a copy of the License at\n",
    "http://www.apache.org/licenses/LICENSE-2.0. \n",
    "\n",
    "Unless required by applicable law or agreed to in writing, software distributed\n",
    "under the License is distributed on an \"AS IS\" BASIS, WITHOUT WARRANTIES OR\n",
    "CONDITIONS OF ANY KIND, either express or implied. See the License for the\n",
    "specific language governing permissions and limitations under the License.\n"
   ]
  },
  {
   "cell_type": "code",
   "execution_count": 1,
   "id": "a11a15e6",
   "metadata": {
    "ExecuteTime": {
     "end_time": "2023-01-23T22:03:47.482008Z",
     "start_time": "2023-01-23T22:03:47.265095Z"
    }
   },
   "outputs": [
    {
     "name": "stderr",
     "output_type": "stream",
     "text": [
      "2023-01-23 14:03:47,281:hybridq_parallel.parallel:INFO:Started 'Executor' with 8 workers\n"
     ]
    },
    {
     "data": {
      "text/plain": [
       "[0, 1, 4, 9, 16, 25, 36, 49, 64, 81]"
      ]
     },
     "execution_count": 1,
     "metadata": {},
     "output_type": "execute_result"
    }
   ],
   "source": [
    "from hybridq_parallel import map as pmap\n",
    "\n",
    "list(pmap(lambda x: x**2, range(10)))"
   ]
  },
  {
   "cell_type": "code",
   "execution_count": 2,
   "id": "b3f08c36",
   "metadata": {
    "ExecuteTime": {
     "end_time": "2023-01-23T22:03:47.552895Z",
     "start_time": "2023-01-23T22:03:47.489621Z"
    }
   },
   "outputs": [
    {
     "name": "stderr",
     "output_type": "stream",
     "text": [
      "2023-01-23 14:03:47,546:hybridq_parallel.parallel:INFO:Shut down 'Executor'\n",
      "2023-01-23 14:03:47,549:hybridq_parallel.parallel:INFO:Started 'Executor' with 2 workers\n"
     ]
    },
    {
     "data": {
      "text/plain": [
       "2"
      ]
     },
     "execution_count": 2,
     "metadata": {},
     "output_type": "execute_result"
    }
   ],
   "source": [
    "from hybridq_parallel import map as pmap\n",
    "from hybridq_parallel import restart, get_n_workers\n",
    "\n",
    "restart(max_workers=2)\n",
    "get_n_workers()"
   ]
  },
  {
   "cell_type": "code",
   "execution_count": 3,
   "id": "c45bd747",
   "metadata": {
    "ExecuteTime": {
     "end_time": "2023-01-23T22:03:47.650836Z",
     "start_time": "2023-01-23T22:03:47.554955Z"
    }
   },
   "outputs": [
    {
     "data": {
      "text/plain": [
       "[0, 1, 8, 27, 64, 125, 216, 343, 512, 729]"
      ]
     },
     "execution_count": 3,
     "metadata": {},
     "output_type": "execute_result"
    }
   ],
   "source": [
    "from hybridq_parallel import starmap\n",
    "\n",
    "list(starmap(lambda x, y: x * y**2, zip(range(10), range(10))))"
   ]
  },
  {
   "cell_type": "code",
   "execution_count": 4,
   "id": "b1230150",
   "metadata": {
    "ExecuteTime": {
     "end_time": "2023-01-23T22:03:47.662205Z",
     "start_time": "2023-01-23T22:03:47.653860Z"
    }
   },
   "outputs": [
    {
     "data": {
      "text/plain": [
       "[0, 1, 8, 27, 64, 125, 216, 343, 512, 729]"
      ]
     },
     "execution_count": 4,
     "metadata": {},
     "output_type": "execute_result"
    }
   ],
   "source": [
    "from hybridq_parallel import map as pmap\n",
    "\n",
    "list(pmap(lambda x, y: y * x**2, range(10), range(10)))"
   ]
  },
  {
   "cell_type": "code",
   "execution_count": 5,
   "id": "9321a7a3",
   "metadata": {
    "ExecuteTime": {
     "end_time": "2023-01-23T22:03:47.672698Z",
     "start_time": "2023-01-23T22:03:47.664151Z"
    }
   },
   "outputs": [
    {
     "data": {
      "text/plain": [
       "[0, 1, 8, 27, 64, 125, 216, 343, 512, 729]"
      ]
     },
     "execution_count": 5,
     "metadata": {},
     "output_type": "execute_result"
    }
   ],
   "source": [
    "from hybridq_parallel import starmap\n",
    "\n",
    "list(starmap(\n",
    "    lambda x, y: x * y**2,\n",
    "    zip(range(10), range(10)),\n",
    "))"
   ]
  },
  {
   "cell_type": "code",
   "execution_count": 6,
   "id": "f0956bb4",
   "metadata": {
    "ExecuteTime": {
     "end_time": "2023-01-23T22:03:47.747550Z",
     "start_time": "2023-01-23T22:03:47.674319Z"
    }
   },
   "outputs": [
    {
     "data": {
      "application/vnd.jupyter.widget-view+json": {
       "model_id": "38f299d6c3924e5ba6071a8ee3c8d8ae",
       "version_major": 2,
       "version_minor": 0
      },
      "text/plain": [
       "  0%|          | 0/10 [00:00<?, ?it/s]"
      ]
     },
     "metadata": {},
     "output_type": "display_data"
    },
    {
     "data": {
      "text/plain": [
       "[0, 1, 8, 27, 64, 125, 216, 343, 512, 729]"
      ]
     },
     "execution_count": 6,
     "metadata": {},
     "output_type": "execute_result"
    }
   ],
   "source": [
    "from hybridq_parallel import map as pmap\n",
    "from tqdm.auto import tqdm\n",
    "\n",
    "list(tqdm(pmap(lambda x, y: y * x**2, range(10), range(10)), total=10))"
   ]
  }
 ],
 "metadata": {
  "kernelspec": {
   "display_name": "Python 3 (ipykernel)",
   "language": "python",
   "name": "python3"
  },
  "language_info": {
   "codemirror_mode": {
    "name": "ipython",
    "version": 3
   },
   "file_extension": ".py",
   "mimetype": "text/x-python",
   "name": "python",
   "nbconvert_exporter": "python",
   "pygments_lexer": "ipython3",
   "version": "3.10.9"
  },
  "varInspector": {
   "cols": {
    "lenName": 16,
    "lenType": 16,
    "lenVar": 40
   },
   "kernels_config": {
    "python": {
     "delete_cmd_postfix": "",
     "delete_cmd_prefix": "del ",
     "library": "var_list.py",
     "varRefreshCmd": "print(var_dic_list())"
    },
    "r": {
     "delete_cmd_postfix": ") ",
     "delete_cmd_prefix": "rm(",
     "library": "var_list.r",
     "varRefreshCmd": "cat(var_dic_list()) "
    }
   },
   "types_to_exclude": [
    "module",
    "function",
    "builtin_function_or_method",
    "instance",
    "_Feature"
   ],
   "window_display": false
  }
 },
 "nbformat": 4,
 "nbformat_minor": 5
}
