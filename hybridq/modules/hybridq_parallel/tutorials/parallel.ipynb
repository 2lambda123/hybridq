{
 "cells": [
  {
   "cell_type": "markdown",
   "id": "f04d015b",
   "metadata": {},
   "source": [
    "# HybridQ-Parallel: Light-Weight Parallelization\n",
    "\n",
    "**HybridQ-Parallel** is light-weight library to parallelize processes based on `concurrent.futures.ProcessPoolExecutor`.\n",
    "\n",
    "## Installation\n",
    "\n",
    "`HybridQ-Parallel` can be installed as stand-alone library using `pip`:\n",
    "```\n",
    "pip install 'git+https://github.com/nasa/hybridq#egg=hybridq-parallel&subdirectory=hybridq/modules/hybridq_parallel'\n",
    "```\n",
    "\n",
    "## Getting Started\n",
    "\n",
    "Tutorials on how to use **HybridQ-Parallel** can be found in [hybridq-parallel/tutorials](https://github.com/nasa/hybridq/tree/main/hybridq/modules/hybridq_parallel/tutorials).\n",
    "\n",
    "## How to Use\n",
    "\n",
    "**HybridQ-Parallel** provide the equivalent of `map` to run on multiple thread:\n",
    "```\n",
    "from hybridq_parallel import map as pmap\n",
    "\n",
    "list(pmap(lambda x: x**2, range(10)))\n",
    "> [0, 1, 4, 9, 16, 25, 36, 49, 64, 81]\n",
    "```\n",
    "The pool executor is automatically started when requires and its number of workers\n",
    "is initialized by default to the number of available cores. The default behavior\n",
    "can be changed by setting the environment variable `HYBRIDQ_PARALLEL_MAX_WORKERS`\n",
    "to the desired number before starting the pool executor. Otherwise, the pool\n",
    "executor can be manually started with the desired number of workers:\n",
    "```\n",
    "from hybridq_parallel import map as pmap\n",
    "from hybridq_parallel import restart, get_n_workers\n",
    "\n",
    "restart(max_workers=2)\n",
    "get_n_workers()\n",
    "> 2\n",
    "```\n",
    "**HybridQ-Parallel** also provide the equivalent of `multiprocessing.starmap`:\n",
    "```\n",
    "from hybridq_parallel import starmap\n",
    "\n",
    "list(starmap(lambda x, y: x * y**2, zip(range(10), range(10))))\n",
    "> [0, 1, 8, 27, 64, 125, 216, 343, 512, 729]\n",
    "```\n",
    "**HybridQ-Parallel** can pickle any callable by wrapping it using `hybridq_parallel.Function`:\n",
    "```\n",
    "from hybridq_parallel import Function\n",
    "import pickle\n",
    "\n",
    "fn = lambda x: x\n",
    "\n",
    "try:\n",
    "    pickle.dumps(fn)\n",
    "except pickle.PickleError as e:\n",
    "    print(e)\n",
    "\n",
    "pickle.dumps(Function(fn))\n",
    "> Can't pickle <function <lambda> at 0x7f34d0e1a170>: attribute lookup <lambda> on __main__ failed\n",
    "> b'\\x80...'\n",
    "```\n",
    "By default **HybridQ-Parallel** uses `dill` as pickler. The default behavior can be\n",
    "changed by setting the environment variable `HYBRIDQ_PARALLEL_PICKLER` to the desired\n",
    "pickler module. Otherwise, a valid pickler module can be provided while calling `map`\n",
    "and `starmap`:\n",
    "```\n",
    "from hybridq_parallel import map as pmap\n",
    "\n",
    "list(pmap(lambda x: x**2, range(10), pickler='cloudpickle'))\n",
    "> [0, 1, 4, 9, 16, 25, 36, 49, 64, 81]\n",
    "```\n",
    "If needed, a progressbar can be added using packages like `tqdm`:\n",
    "```\n",
    "from hybridq_parallel import map as pmap\n",
    "from tqdm.auto import tqdm\n",
    "\n",
    "list(tqdm(pmap(lambda x, y: y * x**2, range(10), range(10)), total=10))\n",
    "```\n",
    "\n",
    "## How To Cite\n",
    "\n",
    "[1] S. Mandrà, J. Marshall, E. Rieffel, and R. Biswas, [*\"HybridQ: A Hybrid\n",
    "Simulator for Quantum Circuits\"*](https://doi.org/10.1109/QCS54837.2021.00015), \n",
    "IEEE/ACM Second International Workshop on Quantum Computing Software (QCS) (2021)\n",
    "\n",
    "## Licence\n",
    "\n",
    "Copyright © 2021, United States Government, as represented by the Administrator\n",
    "of the National Aeronautics and Space Administration. All rights reserved.\n",
    "\n",
    "The HybridQ: A Hybrid Simulator for Quantum Circuits platform is licensed under\n",
    "the Apache License, Version 2.0 (the \"License\"); you may not use this file\n",
    "except in compliance with the License. You may obtain a copy of the License at\n",
    "http://www.apache.org/licenses/LICENSE-2.0. \n",
    "\n",
    "Unless required by applicable law or agreed to in writing, software distributed\n",
    "under the License is distributed on an \"AS IS\" BASIS, WITHOUT WARRANTIES OR\n",
    "CONDITIONS OF ANY KIND, either express or implied. See the License for the\n",
    "specific language governing permissions and limitations under the License.\n"
   ]
  },
  {
   "cell_type": "code",
   "execution_count": 1,
   "id": "a11a15e6",
   "metadata": {
    "ExecuteTime": {
     "end_time": "2022-12-01T16:56:09.016691Z",
     "start_time": "2022-12-01T16:56:08.867495Z"
    }
   },
   "outputs": [
    {
     "name": "stderr",
     "output_type": "stream",
     "text": [
      "2022-12-01 08:56:08,924:hybridq_parallel.parallel:INFO:Starting executor with 8 workers\n"
     ]
    },
    {
     "data": {
      "text/plain": [
       "[0, 1, 4, 9, 16, 25, 36, 49, 64, 81]"
      ]
     },
     "execution_count": 1,
     "metadata": {},
     "output_type": "execute_result"
    }
   ],
   "source": [
    "from hybridq_parallel import map as pmap\n",
    "\n",
    "list(pmap(lambda x: x**2, range(10)))"
   ]
  },
  {
   "cell_type": "code",
   "execution_count": 2,
   "id": "b3f08c36",
   "metadata": {
    "ExecuteTime": {
     "end_time": "2022-12-01T16:56:09.036202Z",
     "start_time": "2022-12-01T16:56:09.019699Z"
    }
   },
   "outputs": [
    {
     "name": "stderr",
     "output_type": "stream",
     "text": [
      "2022-12-01 08:56:09,021:hybridq_parallel.parallel:INFO:Shutting down executor\n",
      "2022-12-01 08:56:09,032:hybridq_parallel.parallel:INFO:Starting executor with 2 workers\n"
     ]
    },
    {
     "data": {
      "text/plain": [
       "2"
      ]
     },
     "execution_count": 2,
     "metadata": {},
     "output_type": "execute_result"
    }
   ],
   "source": [
    "from hybridq_parallel import map as pmap\n",
    "from hybridq_parallel import restart, get_n_workers\n",
    "\n",
    "restart(max_workers=2)\n",
    "get_n_workers()"
   ]
  },
  {
   "cell_type": "code",
   "execution_count": 3,
   "id": "c45bd747",
   "metadata": {
    "ExecuteTime": {
     "end_time": "2022-12-01T16:56:09.068377Z",
     "start_time": "2022-12-01T16:56:09.039887Z"
    }
   },
   "outputs": [
    {
     "data": {
      "text/plain": [
       "[0, 1, 8, 27, 64, 125, 216, 343, 512, 729]"
      ]
     },
     "execution_count": 3,
     "metadata": {},
     "output_type": "execute_result"
    }
   ],
   "source": [
    "from hybridq_parallel import starmap\n",
    "\n",
    "list(starmap(lambda x, y: x * y**2, zip(range(10), range(10))))"
   ]
  },
  {
   "cell_type": "code",
   "execution_count": 4,
   "id": "911d0663",
   "metadata": {
    "ExecuteTime": {
     "end_time": "2022-12-01T16:56:09.077863Z",
     "start_time": "2022-12-01T16:56:09.071215Z"
    }
   },
   "outputs": [
    {
     "name": "stdout",
     "output_type": "stream",
     "text": [
      "Can't pickle <function <lambda> at 0x7f19900fe200>: attribute lookup <lambda> on __main__ failed\n"
     ]
    },
    {
     "data": {
      "text/plain": [
       "b'\\x80\\x04\\x95\\x15\\x01\\x00\\x00\\x00\\x00\\x00\\x00\\x8c\\x19hybridq_parallel.parallel\\x94\\x8c\\x08Function\\x94\\x93\\x94)\\x81\\x94\\x8c\\x04dill\\x94C\\xdb\\x80\\x04\\x95\\xd0\\x00\\x00\\x00\\x00\\x00\\x00\\x00\\x8c\\ndill._dill\\x94\\x8c\\x10_create_function\\x94\\x93\\x94(h\\x00\\x8c\\x0c_create_code\\x94\\x93\\x94(C\\x00\\x94K\\x01K\\x00K\\x00K\\x01K\\x01KCC\\x04|\\x00S\\x00\\x94N\\x85\\x94)\\x8c\\x01x\\x94\\x85\\x94\\x8c#/tmp/ipykernel_246653/4171778938.py\\x94\\x8c\\x08<lambda>\\x94K\\x04C\\x02\\x04\\x00\\x94))t\\x94R\\x94c__builtin__\\n__main__\\nh\\x0bNNt\\x94R\\x94}\\x94}\\x94\\x8c\\x0f__annotations__\\x94}\\x94s\\x86\\x94b.\\x94\\x86\\x94b.'"
      ]
     },
     "execution_count": 4,
     "metadata": {},
     "output_type": "execute_result"
    }
   ],
   "source": [
    "from hybridq_parallel import Function\n",
    "import pickle\n",
    "\n",
    "fn = lambda x: x\n",
    "\n",
    "try:\n",
    "    pickle.dumps(fn)\n",
    "except pickle.PickleError as e:\n",
    "    print(e)\n",
    "\n",
    "pickle.dumps(Function(fn))"
   ]
  },
  {
   "cell_type": "code",
   "execution_count": 5,
   "id": "5f65930f",
   "metadata": {
    "ExecuteTime": {
     "end_time": "2022-12-01T16:56:09.090162Z",
     "start_time": "2022-12-01T16:56:09.079877Z"
    }
   },
   "outputs": [
    {
     "data": {
      "text/plain": [
       "[0, 1, 4, 9, 16, 25, 36, 49, 64, 81]"
      ]
     },
     "execution_count": 5,
     "metadata": {},
     "output_type": "execute_result"
    }
   ],
   "source": [
    "from hybridq_parallel import map as pmap\n",
    "\n",
    "list(pmap(lambda x: x**2, range(10), pickler='cloudpickle'))"
   ]
  },
  {
   "cell_type": "code",
   "execution_count": 6,
   "id": "b1230150",
   "metadata": {
    "ExecuteTime": {
     "end_time": "2022-12-01T16:56:09.100794Z",
     "start_time": "2022-12-01T16:56:09.091757Z"
    }
   },
   "outputs": [
    {
     "data": {
      "text/plain": [
       "[0, 1, 8, 27, 64, 125, 216, 343, 512, 729]"
      ]
     },
     "execution_count": 6,
     "metadata": {},
     "output_type": "execute_result"
    }
   ],
   "source": [
    "from hybridq_parallel import map as pmap\n",
    "\n",
    "list(pmap(lambda x, y: y * x**2, range(10), range(10)))"
   ]
  },
  {
   "cell_type": "code",
   "execution_count": 7,
   "id": "9321a7a3",
   "metadata": {
    "ExecuteTime": {
     "end_time": "2022-12-01T16:56:09.122522Z",
     "start_time": "2022-12-01T16:56:09.102492Z"
    }
   },
   "outputs": [
    {
     "data": {
      "text/plain": [
       "[0, 1, 8, 27, 64, 125, 216, 343, 512, 729]"
      ]
     },
     "execution_count": 7,
     "metadata": {},
     "output_type": "execute_result"
    }
   ],
   "source": [
    "from hybridq_parallel import starmap\n",
    "\n",
    "list(starmap(\n",
    "    lambda x, y: x * y**2,\n",
    "    zip(range(10), range(10)),\n",
    "))"
   ]
  },
  {
   "cell_type": "code",
   "execution_count": 8,
   "id": "f0956bb4",
   "metadata": {
    "ExecuteTime": {
     "end_time": "2022-12-01T16:56:09.156450Z",
     "start_time": "2022-12-01T16:56:09.124632Z"
    }
   },
   "outputs": [
    {
     "data": {
      "application/vnd.jupyter.widget-view+json": {
       "model_id": "10f0b877b66044ec8bf756c05e8c70e7",
       "version_major": 2,
       "version_minor": 0
      },
      "text/plain": [
       "  0%|          | 0/10 [00:00<?, ?it/s]"
      ]
     },
     "metadata": {},
     "output_type": "display_data"
    },
    {
     "data": {
      "text/plain": [
       "[0, 1, 8, 27, 64, 125, 216, 343, 512, 729]"
      ]
     },
     "execution_count": 8,
     "metadata": {},
     "output_type": "execute_result"
    }
   ],
   "source": [
    "from hybridq_parallel import map as pmap\n",
    "from tqdm.auto import tqdm\n",
    "\n",
    "list(tqdm(pmap(lambda x, y: y * x**2, range(10), range(10)), total=10))"
   ]
  }
 ],
 "metadata": {
  "kernelspec": {
   "display_name": "Python 3 (ipykernel)",
   "language": "python",
   "name": "python3"
  },
  "language_info": {
   "codemirror_mode": {
    "name": "ipython",
    "version": 3
   },
   "file_extension": ".py",
   "mimetype": "text/x-python",
   "name": "python",
   "nbconvert_exporter": "python",
   "pygments_lexer": "ipython3",
   "version": "3.10.8"
  },
  "varInspector": {
   "cols": {
    "lenName": 16,
    "lenType": 16,
    "lenVar": 40
   },
   "kernels_config": {
    "python": {
     "delete_cmd_postfix": "",
     "delete_cmd_prefix": "del ",
     "library": "var_list.py",
     "varRefreshCmd": "print(var_dic_list())"
    },
    "r": {
     "delete_cmd_postfix": ") ",
     "delete_cmd_prefix": "rm(",
     "library": "var_list.r",
     "varRefreshCmd": "cat(var_dic_list()) "
    }
   },
   "types_to_exclude": [
    "module",
    "function",
    "builtin_function_or_method",
    "instance",
    "_Feature"
   ],
   "window_display": false
  }
 },
 "nbformat": 4,
 "nbformat_minor": 5
}
